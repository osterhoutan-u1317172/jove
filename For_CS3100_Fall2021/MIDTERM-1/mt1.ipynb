{
 "cells": [
  {
   "cell_type": "markdown",
   "metadata": {
    "id": "1an9nmMw1Fac",
    "run_control": {
     "frozen": false,
     "read_only": false
    }
   },
   "source": [
    "# OVERALL : Do not delete the code and comment cells provided.\n",
    "# Execute the given code cells.\n",
    "# Answer as prompted\n",
    "\n",
    "# QUESTION-1 (15 pts) has parts a,b,c. Most are filled. Fill the rest and answer. It is on a \"mod DFA\" design\n",
    "\n",
    "## 1a : 9% -- fill details of the construction\n",
    "## 1b : 3% -- spot-checking the construction\n",
    "## 1c : 3% -- explaining a construction in a few bullets\n",
    "\n",
    "# QUESTION-2 (25 PTS) is on designing a DFA and testing it\n",
    "\n",
    "## 2a : 18% -- finish DFA design\n",
    "## 2b:    2% -- apply min_dfa_brz\n",
    "## 2c:    5% -- run a bunch of tests and see how many tests pass\n",
    "\n",
    "# QUESTION-3 (35 PTS) is on checking whether a given NFA agrees with the DFA in Question-2\n",
    "\n",
    "## 3a : 10% -- Doing N minus D\n",
    "## 3b:  10% -- Doing D minus N\n",
    "## 3c:  10% -- Telling which of the subtractions is empty and why\n",
    "## 3d:    5% -- Express the non-empty difference as a language in Jove markdown\n",
    "\n",
    "\n",
    "# QUESTION-4 (25 PTS) is on doing the NFA to DFA conversion\n",
    "\n",
    "## 4a :   5% -- Explaining how subset construction will go \n",
    "## 4b:  10% -- Obtaining the DFA\n",
    "## 4c:  10% -- Verifying your work\n",
    " "
   ]
  },
  {
   "cell_type": "code",
   "execution_count": null,
   "metadata": {
    "id": "y863_jSu1Fad",
    "run_control": {
     "frozen": false,
     "read_only": false
    },
    "scrolled": true
   },
   "outputs": [],
   "source": [
    "#~~~~~~~~~~~~~~~~~~~~~~~~~~~~~~~~~~~~~~~~~~~~~~~~~~~~~~~\n",
    "import sys\n",
    "\n",
    "# -- Detect if in Own Install or in Colab\n",
    "try:\n",
    "    import google.colab\n",
    "    OWN_INSTALL = False\n",
    "except:\n",
    "    OWN_INSTALL = True\n",
    "    \n",
    "if OWN_INSTALL:\n",
    "    \n",
    "  #---- Leave these definitions ON if running on laptop\n",
    "  #---- Else turn OFF by putting them between ''' ... '''\n",
    "\n",
    "  sys.path[0:0] = ['../../../../..',  '../../../../../3rdparty',  \n",
    "                   '../../../..',  '../../../../3rdparty',  \n",
    "                   '../../..',     '../../../3rdparty', \n",
    "                   '../..',        '../../3rdparty',\n",
    "                   '..',           '../3rdparty' ]\n",
    "\n",
    "else: # In colab\n",
    "  ! if [ ! -d Jove ]; then git clone https://github.com/ganeshutah/Jove Jove; fi\n",
    "  sys.path.append('./Jove')\n",
    "  sys.path.append('./Jove/jove')\n",
    "\n",
    "# -- common imports --\n",
    "from jove.LangDef import *\n",
    "from jove.DotBashers import *\n",
    "from jove.Def_md2mc  import *\n",
    "from jove.Def_NFA    import *\n",
    "from jove.Def_DFA    import *\n",
    "from jove.Def_RE2NFA import *\n",
    "from jove.AnimateNFA import *\n",
    "#~~~~~~~~~~~~~~~~~~~~~~~~~~~~~~~~~~~~~~~~~~~~~~~~~~~~~~~"
   ]
  },
  {
   "cell_type": "markdown",
   "metadata": {},
   "source": [
    "# =================== QUESTION DIVIDING LINE ==================="
   ]
  },
  {
   "cell_type": "markdown",
   "metadata": {},
   "source": [
    "# (15%) : Question 1"
   ]
  },
  {
   "cell_type": "markdown",
   "metadata": {
    "id": "BzOCjuwm1Fae"
   },
   "source": [
    "# Question 1a (9%): Design a \"mod N DFA\" (MSB first) for N = 7\n",
    "\n",
    "<font size=\"4\">\n",
    "\n",
    "* A \"mod N\" DFA (MSB first) can be designed as explained in class on Wed 9/22/21 during the MT-1 review session\n",
    "* The machine receives MSB first\n",
    "* If the number (modulus) seen thus far is A, and a bit b arrives, the state attained by the machine is 2A+b mod 7   \n",
    "* Some of the steps are already done for you below. \n",
    "* YOUR TASK-1 IS TO FILL THE REMAINING STEPS SHOWN AS ??? AND ALSO WRITE COMMENTS SIMILAR TO THE FILLED ONES\n",
    "* YOUR TASK-2 is TO SPOT-CHECK by using the \"run_dfa\" command - conveniently provided for you below\n",
    "    - Answer near the '==> ... <==' that you will see below\n",
    "    - 110110  which encodes (in binary) the number 54 ends up in state 54(decimal) mod 7 which is S5\n",
    "    - 01101111  which encodes (in binary) the number 96+15 = 111 ends up in state 111(decimal) mod 7 which is S6\n",
    "\n",
    "### Further steps must be carried out as noted below\n",
    "</font>"
   ]
  },
  {
   "cell_type": "code",
   "execution_count": null,
   "metadata": {},
   "outputs": [],
   "source": [
    "mod7DFA = md2mc('''DFA\n",
    "\n",
    "!! mod7 machine has six states : IF (which is like \"state 0\"), S1, S2, S3, S4, S5 and S6\n",
    "!! This is because the remainder after division is a number in the range 0 through 6\n",
    "\n",
    "IF : 0 -> IF  !! Having see epsilon or a bunch of 0's, the number is 0 (decimal) and mod 7 gives 0 : so IF\n",
    "IF : 1 -> S1  !! 1 mod 7 is 1, thus goto state S1\n",
    "\n",
    "S1 : 1 -> S3  !! A=1 : --1--> (i.e. 1 arrives) and so, the new A is 3, and 3 mod 7 is 3. Thus go to state S3\n",
    "S1 : 0 -> S2  !! A=1 : --0--> new A is \"2\", hence go to S2\n",
    "\n",
    "S3 : 1 -> IF  !! A=3 : --1--> new A is 2*3 + 1 which is 7, and 7 mod 7 is 0  - hence go to IF\n",
    "S3 : 0 -> ??? !! A=3 : --0--> new A is ??? ---......fill....-- hence go to S??? (fill)\n",
    "\n",
    "S2 : 1 -> ??? !! A=2 : --1--> new A is ??? ---......fill....-- hence go to S??? (fill)\n",
    "S2 : 0 -> S4  !! A=2 : --0--> new A is (2*2+0) mod 7, which is 4. Hence go to S4.\n",
    "\n",
    "S4 : 1 -> S2  !! A=4 : --1--> new A is (2*4+1) mod 7, which is 2. Hence go to S2\n",
    "S4 : 0 -> S1  !! A=4 : --0--> new A is (2*4+0) mod 7, which is 8. Hence go to S1\n",
    "\n",
    "??? : 1 -> ???\n",
    "??? : 0 -> ???\n",
    "\n",
    "??? : 1 -> ???\n",
    "??? : 0 -> ???\n",
    "''')"
   ]
  },
  {
   "cell_type": "code",
   "execution_count": null,
   "metadata": {},
   "outputs": [],
   "source": [
    "dotObj_dfa(mod7DFA)"
   ]
  },
  {
   "cell_type": "markdown",
   "metadata": {},
   "source": [
    "# Question 1b (3%): Spot-checks  "
   ]
  },
  {
   "cell_type": "markdown",
   "metadata": {},
   "source": [
    "## Spot-check 110110 by running the command below"
   ]
  },
  {
   "cell_type": "code",
   "execution_count": null,
   "metadata": {},
   "outputs": [],
   "source": [
    "run_dfa(mod7DFA, \"110110\")"
   ]
  },
  {
   "cell_type": "markdown",
   "metadata": {},
   "source": [
    "### ==> My machine indeed went to state S5 as required <=="
   ]
  },
  {
   "cell_type": "markdown",
   "metadata": {},
   "source": [
    "## Spot-check 01101111 by running the command below"
   ]
  },
  {
   "cell_type": "code",
   "execution_count": null,
   "metadata": {},
   "outputs": [],
   "source": [
    "run_dfa(mod7DFA, \"01101111\")"
   ]
  },
  {
   "cell_type": "markdown",
   "metadata": {},
   "source": [
    "### ==> My machine indeed went to state S6 as required <=="
   ]
  },
  {
   "cell_type": "code",
   "execution_count": null,
   "metadata": {},
   "outputs": [],
   "source": []
  },
  {
   "cell_type": "markdown",
   "metadata": {
    "id": "BzOCjuwm1Fae"
   },
   "source": [
    "# Question 1c (3%): Shortcut for the \"mod 4\" machine\n",
    "\n",
    "<font size=\"4\">\n",
    "\n",
    "* Someone implemented a \"mod 4\" DFA as follows. Explain in neat bulleted steps why this design works\n",
    "    \n",
    "</font>"
   ]
  },
  {
   "cell_type": "code",
   "execution_count": null,
   "metadata": {},
   "outputs": [],
   "source": [
    "# Design a \"mod 4\" DFA in a nifty way -- why does it work?\n",
    "\n",
    "nfa_end_00 = re2nfa(\"(0+1)* (00)\")"
   ]
  },
  {
   "cell_type": "code",
   "execution_count": null,
   "metadata": {},
   "outputs": [],
   "source": [
    "dotObj_dfa(min_dfa(nfa2dfa(nfa_end_00)))"
   ]
  },
  {
   "cell_type": "markdown",
   "metadata": {},
   "source": [
    "## ==> Why does the above mod-4 machine construction work? <==\n",
    "\n",
    "<font size=\"4\">\n",
    "    \n",
    "    * REASON: ....FILL the basic logic behind the regular expression which encodes {0,1}* 00.....\n",
    "    * ==> ANSWER BY FILLING THE BASIC LOGIC HERE <==\n",
    "    * USER 2-3 BULLETS TO ANSWER CLEARLY\n",
    "    \n",
    "    * REASON: ....FILL THE CONSTRUCTION METHOD USED ABOVE....\n",
    "    * ==> ANSWER BY FILLING THE CONSTRUCTION METHOD USED TO REALIZE THE LOGIC HERE <==   \n",
    "    * USER 2-3 BULLETS TO ANSWER CLEARLY\n",
    "</font>    "
   ]
  },
  {
   "cell_type": "markdown",
   "metadata": {},
   "source": [
    "# =================== QUESTION DIVIDING LINE ==================="
   ]
  },
  {
   "cell_type": "markdown",
   "metadata": {
    "id": "BzOCjuwm1Fae"
   },
   "source": [
    "# (25%) Question 2: Demonstrate your ability to design a DFA\n",
    "\n",
    "<font size=\"4\">\n",
    "\n",
    "*\n",
    "* Design a DFA called dfa01n01 for the set of strings over {0,1} that \n",
    "  - Begin with 01, and \n",
    "  - do not end with in 01\n",
    "\n",
    "\n",
    "### Requirements:\n",
    "\n",
    "* **This DFA must be designed directly** -- i.e. not by designing other DFA or NFA and combining or transforming them\n",
    "* The DFA must start with state I\n",
    "* You must maintain states such as SX, SXY, FXY for X and Y in {0,1} (not all cases may be necessary). These states must help the DFA \"remember\" what it has seen thus far\n",
    "* The DFA must transition to the state BH if the string so far cannot be recovered from (by adding more symbols). Further BH must transition back to itself upon 0 and 1\n",
    "\n",
    "### Further steps must be carried out as noted below\n",
    "</font>"
   ]
  },
  {
   "cell_type": "markdown",
   "metadata": {},
   "source": [
    "# Question 2a (18%): Provide the design of dfa01n01 below, with comments  \n",
    "\n",
    "## Provide a sufficient number of comments to help me judge that you understand the design. In particular, show when an \"F\" state is entered and when a \"non-F\" state is entered"
   ]
  },
  {
   "cell_type": "code",
   "execution_count": null,
   "metadata": {
    "id": "tnc6tDJT1Faf"
   },
   "outputs": [],
   "source": [
    "# Given DFA\n",
    "\n",
    "dfa01n01 = md2mc(\n",
    "'''DFA\n",
    "\n",
    "...fill...\n",
    "\n",
    "''')\n"
   ]
  },
  {
   "cell_type": "code",
   "execution_count": null,
   "metadata": {},
   "outputs": [],
   "source": [
    "# RUN THIS CODE CELL\n",
    "dotObj_dfa(dfa01n01, FuseEdges=True)"
   ]
  },
  {
   "cell_type": "code",
   "execution_count": null,
   "metadata": {},
   "outputs": [],
   "source": [
    "help(min_dfa_brz)"
   ]
  },
  {
   "cell_type": "markdown",
   "metadata": {},
   "source": [
    "# Question 2b (2%): Minimize this DFA using Brzozowski's minimization, assigning it to mdfa01n01\n",
    "\n",
    "* Your original DFA might have been minimal - but since you don't often know that, minimize it anyhow\n",
    "* Assign the minimized result to mdfa01n01 for the sake of future problems\n",
    "* You may use "
   ]
  },
  {
   "cell_type": "code",
   "execution_count": null,
   "metadata": {},
   "outputs": [],
   "source": [
    "# RUN THIS CODE CELL\n",
    "mdfa01n01 = ...command to generate minimized machine..."
   ]
  },
  {
   "cell_type": "code",
   "execution_count": null,
   "metadata": {},
   "outputs": [],
   "source": [
    "# RUN THIS CODE CELL\n",
    "dotObj_dfa(mdfa01n01, FuseEdges=True)"
   ]
  },
  {
   "cell_type": "markdown",
   "metadata": {},
   "source": [
    "# Question 2c (5%): Final check of your design"
   ]
  },
  {
   "cell_type": "code",
   "execution_count": null,
   "metadata": {},
   "outputs": [],
   "source": [
    "# RUN THIS CODE CELL\n",
    "TestStrings = [nthnumeric(i, ['0','1']) for i in range(64)]\n",
    "Laccepted = list(filter(lambda x: accepts_dfa(mdfa01n01, x), TestStrings))\n",
    "Laccepted"
   ]
  },
  {
   "cell_type": "code",
   "execution_count": null,
   "metadata": {},
   "outputs": [],
   "source": [
    "# RUN THIS CODE CELL\n",
    "len(Laccepted)"
   ]
  },
  {
   "cell_type": "markdown",
   "metadata": {},
   "source": [
    "# =================== QUESTION DIVIDING LINE ==================="
   ]
  },
  {
   "cell_type": "markdown",
   "metadata": {},
   "source": [
    "# (40%) Question 3: The following NFA nfa01n01 is given by someone as having a language that is \"interestingly related\" to the language of mdfa01n01. Here are the possibilities.\n",
    "  \n",
    "\n",
    "## P1: The language of the DFA contained in that of the NFA (D is contained in N)\n",
    "\n",
    "## P2: The language of the NFA contained in that of the DFA (N is contained in D)\n",
    "\n",
    "## Your task is to determine whether \n",
    "\n",
    "### P1 and P2 are true, OR\n",
    "\n",
    "### P1 is true, OR\n",
    "\n",
    "### P2 is true\n",
    "\n",
    "#### (We assure you these are the only outcomes possible)\n",
    "\n",
    "## You must use nfa2dfa to obtain dfa_nfa01n01  (read it as \"DFA of nfa01n01\") in the work below.\n",
    "\n",
    "### You must obtain the DFA D_minus_N which is the DFA that has all the strings in mdfa01n01 (D's language) but none in dfa_nfa01n01 (N's language). You may use DFA complementation and DFA intersection for this purpose. You can apply min_dfa whenever necessary. Then display  D_minus_N using dotObj_dfa. \n",
    "\n",
    "###  Similarly, obtain the DFA N_minus_D which is the DFA that has all the strings in dfa_nfa01n01 but none in mdfa01n01 and display it. \n",
    "\n",
    "\n",
    "### Then tell us whether P1 and P2 are true, or whether P1 alone is true, or P2 alone is true\n",
    "\n",
    "## OK let's get to work now"
   ]
  },
  {
   "cell_type": "markdown",
   "metadata": {},
   "source": [
    "# The given NFA -- DO NOT MODIFY THIS NFA !!!"
   ]
  },
  {
   "cell_type": "code",
   "execution_count": null,
   "metadata": {},
   "outputs": [],
   "source": [
    "nfa01n01 = md2mc(\n",
    "'''NFA\n",
    "\n",
    "I    : 0   -> S0\n",
    "S0   : 1   -> S01\n",
    "\n",
    "S01  : ''  -> A\n",
    "A    : 0|1 -> A\n",
    "A    : 0   -> F0\n",
    "F0   : 0   -> F00\n",
    "\n",
    "S01  : ''  -> B\n",
    "B    : 1   -> B\n",
    "B    : 1   -> F1\n",
    "\n",
    "F1   : 0   -> F10\n",
    "F1   : 1   -> F11\n",
    "\n",
    "''')"
   ]
  },
  {
   "cell_type": "code",
   "execution_count": null,
   "metadata": {},
   "outputs": [],
   "source": [
    "dotObj_nfa(nfa01n01, FuseEdges=True)"
   ]
  },
  {
   "cell_type": "markdown",
   "metadata": {},
   "source": [
    "## Do the nfa2dfa conversion and obtain dfa_nfa01n01"
   ]
  },
  {
   "cell_type": "code",
   "execution_count": null,
   "metadata": {},
   "outputs": [],
   "source": [
    "dfa_nfa01n01 = min_dfa(nfa2dfa(nfa01n01))"
   ]
  },
  {
   "cell_type": "code",
   "execution_count": null,
   "metadata": {},
   "outputs": [],
   "source": [
    "dotObj_dfa(dfa_nfa01n01, FuseEdges=True)"
   ]
  },
  {
   "cell_type": "markdown",
   "metadata": {},
   "source": [
    "## Minimize to obtain mdfa01n01"
   ]
  },
  {
   "cell_type": "code",
   "execution_count": null,
   "metadata": {},
   "outputs": [],
   "source": [
    "dotObj_dfa(mdfa01n01, FuseEdges=True)"
   ]
  },
  {
   "cell_type": "markdown",
   "metadata": {},
   "source": [
    "# Question 3a (10%): Below, show your ability to obtain N_minus_D via DFA operations, and seeing your results in a nice minimal form clearly"
   ]
  },
  {
   "cell_type": "code",
   "execution_count": null,
   "metadata": {},
   "outputs": [],
   "source": [
    "N_minus_D = ...put the commands here to obtain N_minus_D as described..."
   ]
  },
  {
   "cell_type": "code",
   "execution_count": null,
   "metadata": {},
   "outputs": [],
   "source": [
    "dotObj_dfa(N_minus_D)"
   ]
  },
  {
   "cell_type": "markdown",
   "metadata": {},
   "source": [
    "# Question 3b (10%): Show your ability to obtain D_minus_N via DFA operations and seeing the results in a minimal form clearly"
   ]
  },
  {
   "cell_type": "code",
   "execution_count": null,
   "metadata": {},
   "outputs": [],
   "source": [
    "D_minus_N = ...put necessary commands here to obtain D_minus_N..."
   ]
  },
  {
   "cell_type": "code",
   "execution_count": null,
   "metadata": {},
   "outputs": [],
   "source": [
    "dotObj_dfa(D_minus_N)"
   ]
  },
  {
   "cell_type": "markdown",
   "metadata": {},
   "source": [
    "# Question 3c (10%): Final answer for Question 2 with explanations saying which subtraction is non-empty,  and how you arrive at this conclusion\n",
    "\n",
    "<font size=\"3\">\n",
    "\n",
    "* ....\n",
    "    \n",
    "</font>    \n",
    "\n"
   ]
  },
  {
   "cell_type": "markdown",
   "metadata": {},
   "source": [
    "## Answer below , selecting one of these\n",
    "\n",
    "## P1 alone is true because...\n",
    "\n",
    "## P2 alone is true because ...\n",
    "\n",
    "## Both are true because ...\n"
   ]
  },
  {
   "cell_type": "markdown",
   "metadata": {},
   "source": [
    "**ANSWER HERE** -- "
   ]
  },
  {
   "cell_type": "markdown",
   "metadata": {},
   "source": [
    "# Question 3d (5%): Describe whichever (D_minus_N or N_minus_D) is non-empty as a mathematical language expression"
   ]
  },
  {
   "cell_type": "code",
   "execution_count": null,
   "metadata": {},
   "outputs": [],
   "source": [
    "'''\n",
    "E = THE LANGUAGE EXPRESSION HERE USING Curly Braces .. the \n",
    "    Old-style Language definintion syntax as in Chapters 2 and 3\n",
    "    Regular Expressions are not acceptable (for consistency of\n",
    "    all answers, plus to make sure you know the difference)\n",
    "'''"
   ]
  },
  {
   "cell_type": "markdown",
   "metadata": {},
   "source": [
    "## Describe whichever (D_minus_N or N_minus_D) is non-empty in clear English steps"
   ]
  },
  {
   "cell_type": "markdown",
   "metadata": {},
   "source": [
    "In other words, these strings are missed in the NFA method (and hence are present in D_minus_N)\n",
    "\n",
    "* Explanation of whichever is empty in neat bulletted steps\n",
    "\n",
    "</font>    "
   ]
  },
  {
   "cell_type": "markdown",
   "metadata": {},
   "source": [
    "# =================== QUESTION DIVIDING LINE ==================="
   ]
  },
  {
   "cell_type": "markdown",
   "metadata": {},
   "source": [
    "# (25%) Question 4: Convert the NFA given below to a DFA manually using the NFA to DFA conversion (\"subset construction\") applied manually -- NOT using the Jove command to directly achieve the conversion. Then check your work as instructed below\n",
    "\n",
    "<font size=\"3\">\n",
    "\n",
    "*  Show your work as you did in Assignment-3. In particular:\n",
    "  - Name the sets of states obtained during subset construction using underscore-separated names\n",
    "  - Sort the set contents first\n",
    "  \n",
    "    . E.g. {A,C,B} \n",
    "    \n",
    "    . is presented as\n",
    "    \n",
    "    . A_B_C\n",
    "    \n",
    "  - In subset construction, the {} set is like BH and so when you get {} as the next set of states, in the \n",
    "    DFA name the state BH  and loop back every symbol from BH back to BH\n",
    "    \n",
    "  - when you have to name an initial state of the DFA, name it starting with \"i_\" or \"if_\" as the case may be\n",
    "  \n",
    "  - when you have to name a final state of the DFA, name it starting with \"f_\"\n",
    "  \n",
    "  - Thus if you obtain a state B_C_F, you'll name it as f_B_C_F to tell jove that this is final\n",
    "  \n",
    "  - If the starting state is I, then naming it i_I is un-necessary\n",
    "  \n",
    "  - You can name states modulo these suggestions. Small deviations are OK. E.g. if you got B_C_F and you decide to sort it as F_B_C then that is already an \"F-state\" and so another \"f_\" is not needed\n",
    "  \n",
    " \n",
    "    \n",
    "* Verify using available Jove commands\n",
    "* Check your work showing that your DFA obtained by hand is isomorphic to the DFA obtained mechanically using Jove commands\n",
    "    \n",
    "</font>    \n"
   ]
  },
  {
   "cell_type": "markdown",
   "metadata": {},
   "source": [
    "## The given NFA is below"
   ]
  },
  {
   "cell_type": "code",
   "execution_count": null,
   "metadata": {},
   "outputs": [],
   "source": [
    "NFA_given = md2mc(\n",
    "'''\n",
    "NFA\n",
    "\n",
    "I : 0   -> A\n",
    "A : 1   -> B\n",
    "\n",
    "B : ''  -> C \n",
    "B : ''  -> F\n",
    "\n",
    "C : 1   -> C\n",
    "F : 0|1 -> F\n",
    "\n",
    "\n",
    "\n",
    "''')"
   ]
  },
  {
   "cell_type": "markdown",
   "metadata": {},
   "source": [
    "# Question 4a (5%): Showing your work\n",
    "\n",
    "* Subset construction proceeds as follows\n",
    "\n",
    "* I has itself as E-closure\n",
    "\n",
    "* I upon 0 goes to {A}, named as A\n",
    "* ...FILL THE REMAINING STEPS IN THIS MANNER..."
   ]
  },
  {
   "cell_type": "markdown",
   "metadata": {},
   "source": [
    "# Question 4b (10%) : Presenting your DFA"
   ]
  },
  {
   "cell_type": "code",
   "execution_count": null,
   "metadata": {},
   "outputs": [],
   "source": [
    "DFA_hand = md2mc(\n",
    "'''\n",
    "\n",
    "DFA\n",
    "\n",
    "...THE DFA HERE ....\n",
    "...IT WILL TEND TO LOOK LIKE THIS, using P,Q,R for example only...\n",
    "\n",
    "P   :   1    ->   F_Q_R  !! This is how your real transitions will look like. Edit as needed and fill the rest\n",
    "\n",
    "... etc...\n",
    "\n",
    " \n",
    "\n",
    "''')"
   ]
  },
  {
   "cell_type": "code",
   "execution_count": null,
   "metadata": {},
   "outputs": [],
   "source": [
    "min_DFA_hand = min_dfa(DFA_hand)"
   ]
  },
  {
   "cell_type": "code",
   "execution_count": null,
   "metadata": {},
   "outputs": [],
   "source": [
    "dotObj_dfa(min_DFA_hand, FuseEdges=True)"
   ]
  },
  {
   "cell_type": "code",
   "execution_count": null,
   "metadata": {},
   "outputs": [],
   "source": [
    "min_DFA_jove = min_dfa(nfa2dfa(NFA_given))"
   ]
  },
  {
   "cell_type": "code",
   "execution_count": null,
   "metadata": {},
   "outputs": [],
   "source": [
    "dotObj_dfa(min_DFA_jove, FuseEdges=True)"
   ]
  },
  {
   "cell_type": "markdown",
   "metadata": {},
   "source": [
    "# Question 4c (10%) : Check that the hand-conversion and automated conversion agree"
   ]
  },
  {
   "cell_type": "code",
   "execution_count": null,
   "metadata": {},
   "outputs": [],
   "source": [
    "...Commands to administer the FULL VERIFICATION in a nice and clear way. ..\n",
    "... IT MUST NOT  be a series of tests, but something else...\n",
    "... that clearly establishes that the construction of NFA to DFA...\n",
    ".... resulting in DFA_hand can be verified using Existing Jove Commands...\n",
    ".... ==> The final answer must be a single True or False <=== ....\n"
   ]
  },
  {
   "cell_type": "markdown",
   "metadata": {},
   "source": [
    "## Your conclusion based on the result of the iso_dfa check must be noted below"
   ]
  },
  {
   "cell_type": "markdown",
   "metadata": {},
   "source": [
    "\"ANSWER HERE saying whether the construction by hand agreed with the automated construction !! \""
   ]
  },
  {
   "cell_type": "markdown",
   "metadata": {
    "id": "V9nRzOHS1Fax"
   },
   "source": [
    "# END\n"
   ]
  }
 ],
 "metadata": {
  "colab": {
   "name": "u1234567_MT1.ipynb",
   "provenance": []
  },
  "kernelspec": {
   "display_name": "Python 3",
   "language": "python",
   "name": "python3"
  },
  "language_info": {
   "codemirror_mode": {
    "name": "ipython",
    "version": 3
   },
   "file_extension": ".py",
   "mimetype": "text/x-python",
   "name": "python",
   "nbconvert_exporter": "python",
   "pygments_lexer": "ipython3",
   "version": "3.8.5"
  },
  "toc": {
   "colors": {
    "hover_highlight": "#DAA520",
    "running_highlight": "#FF0000",
    "selected_highlight": "#FFD700"
   },
   "moveMenuLeft": true,
   "nav_menu": {
    "height": "121px",
    "width": "252px"
   },
   "navigate_menu": true,
   "number_sections": true,
   "sideBar": true,
   "threshold": 4,
   "toc_cell": false,
   "toc_section_display": "block",
   "toc_window_display": false,
   "widenNotebook": false
  }
 },
 "nbformat": 4,
 "nbformat_minor": 1
}
